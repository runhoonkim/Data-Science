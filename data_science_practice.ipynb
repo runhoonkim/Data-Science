{
 "cells": [
  {
   "cell_type": "code",
   "execution_count": 8,
   "id": "b2c3f220-59ec-4a82-8287-f390197f6b44",
   "metadata": {},
   "outputs": [
    {
     "name": "stdout",
     "output_type": "stream",
     "text": [
      "      Name  Age\n",
      "0    Alice   24\n",
      "1      Bob   27\n",
      "2  Charlie   22\n",
      "\n",
      "\n",
      "The first row of df\n",
      "Name    Alice\n",
      "Age        24\n",
      "Name: 0, dtype: object\n",
      "\n",
      "\n",
      "The first row, second column of df\n",
      "24\n",
      "\n",
      "\n",
      "The first two rows of df\n",
      "    Name  Age\n",
      "0  Alice   24\n",
      "1    Bob   27\n"
     ]
    }
   ],
   "source": [
    "import pandas as pd\n",
    "\n",
    "data = {'Name': ['Alice', 'Bob', 'Charlie'], 'Age': [24, 27, 22]}\n",
    "df = pd.DataFrame(data)\n",
    "\n",
    "print(df)\n",
    "\n",
    "# First row\n",
    "print(f\"\\n\")\n",
    "print(f\"The first row of df\")  # Entire row\n",
    "print(df.iloc[0])\n",
    "\n",
    "# First row, second column\n",
    "print(f\"\\n\")\n",
    "print(f\"The first row, second column of df\")  \n",
    "print(df.iloc[0, 1])  # Outputs: 24\n",
    "\n",
    "# First 2 rows\n",
    "print(f\"\\n\")\n",
    "print(f\"The first two rows of df\")\n",
    "print(df.iloc[0:2])"
   ]
  },
  {
   "cell_type": "code",
   "execution_count": 12,
   "id": "5f270548-f445-4fae-9a39-3320cd50bc73",
   "metadata": {},
   "outputs": [],
   "source": [
    "import scrapy\n",
    "class QuotesSpider(scrapy.Spider):\n",
    "    name = \"quotes\"\n",
    "    start_urls = ['http://quotes.toscrape.com/tag/humor/',]\n",
    "    def parse(self, response):\n",
    "        for quote in response.css('div.quote'):\n",
    "            yield {'quote': quote.css('span.text::text').get()}"
   ]
  },
  {
   "cell_type": "code",
   "execution_count": 14,
   "id": "ca31a8ff-9899-4c8f-abee-975c7486e4c3",
   "metadata": {},
   "outputs": [],
   "source": [
    "# humor = QuoteSpider()\n",
    "# humor"
   ]
  },
  {
   "cell_type": "code",
   "execution_count": 11,
   "id": "e41a1ee1-53c2-45b6-8780-2117805292a9",
   "metadata": {},
   "outputs": [],
   "source": [
    "# from selenium import webdriver\n",
    "# driver = webdriver.Firefox()\n",
    "# driver.get(\"http://quotes.toscrape.com\")"
   ]
  },
  {
   "cell_type": "code",
   "execution_count": 16,
   "id": "e5ae3826-1d7c-418a-bd5c-abad687ec4e9",
   "metadata": {},
   "outputs": [
    {
     "name": "stdout",
     "output_type": "stream",
     "text": [
      "    Rank                                Bank name  \\\n",
      "0      1  Industrial and Commercial Bank of China   \n",
      "1      2               Agricultural Bank of China   \n",
      "2      3                  China Construction Bank   \n",
      "3      4                            Bank of China   \n",
      "4      5                           JPMorgan Chase   \n",
      "..   ...                                      ...   \n",
      "95    96                            Handelsbanken   \n",
      "96    97                 Industrial Bank of Korea   \n",
      "97    98                                      DNB   \n",
      "98    99                      Qatar National Bank   \n",
      "99   100                                 VTB Bank   \n",
      "\n",
      "    Total assets (2023) (US$ billion)  \n",
      "0                             6303.44  \n",
      "1                             5623.12  \n",
      "2                             5400.28  \n",
      "3                             4578.28  \n",
      "4                             3875.39  \n",
      "..                                ...  \n",
      "95                             351.79  \n",
      "96                             345.81  \n",
      "97                             339.21  \n",
      "98                             338.14  \n",
      "99                             326.85  \n",
      "\n",
      "[100 rows x 3 columns]\n"
     ]
    }
   ],
   "source": [
    "import pandas as pd\n",
    "URL = 'https://en.wikipedia.org/wiki/List_of_largest_banks'\n",
    "tables = pd.read_html(URL)\n",
    "df = tables[0]\n",
    "print(df)"
   ]
  },
  {
   "cell_type": "code",
   "execution_count": 18,
   "id": "5cc56387-c61e-4d7b-8de8-9b2657a38899",
   "metadata": {},
   "outputs": [
    {
     "name": "stdout",
     "output_type": "stream",
     "text": [
      "    Country/Territory IMF[1][12]            World Bank[13]             \\\n",
      "    Country/Territory   Forecast       Year       Estimate       Year   \n",
      "0               World  115494312       2025      105435540       2023   \n",
      "1       United States   30338000       2025       27360935       2023   \n",
      "2               China   19535000  [n 1]2025       17794782  [n 3]2023   \n",
      "3             Germany    4922000       2025        4456081       2023   \n",
      "4               Japan    4390000       2025        4212945       2023   \n",
      "..                ...        ...        ...            ...        ...   \n",
      "205          Kiribati        311       2024            279       2023   \n",
      "206             Palau        308       2024            263       2023   \n",
      "207  Marshall Islands        305       2024            284       2023   \n",
      "208             Nauru        161       2024            154       2023   \n",
      "209            Tuvalu         66       2024             62       2023   \n",
      "\n",
      "    United Nations[14]             \n",
      "              Estimate       Year  \n",
      "0            100834796       2022  \n",
      "1             25744100       2022  \n",
      "2             17963170  [n 1]2022  \n",
      "3              4076923       2022  \n",
      "4              4232173       2022  \n",
      "..                 ...        ...  \n",
      "205                223       2022  \n",
      "206                225       2022  \n",
      "207                279       2022  \n",
      "208                147       2022  \n",
      "209                 59       2022  \n",
      "\n",
      "[210 rows x 7 columns]\n"
     ]
    }
   ],
   "source": [
    "import pandas as pd\n",
    "URL = 'https://en.wikipedia.org/wiki/List_of_countries_by_GDP_(nominal)'\n",
    "tables = pd.read_html(URL)\n",
    "df = tables[2] # the required table will have index 2\n",
    "print(df)"
   ]
  },
  {
   "cell_type": "code",
   "execution_count": null,
   "id": "3007fa48-38a3-4a6e-ba39-921f5dcafcca",
   "metadata": {},
   "outputs": [],
   "source": []
  }
 ],
 "metadata": {
  "kernelspec": {
   "display_name": "Python 3 (ipykernel)",
   "language": "python",
   "name": "python3"
  },
  "language_info": {
   "codemirror_mode": {
    "name": "ipython",
    "version": 3
   },
   "file_extension": ".py",
   "mimetype": "text/x-python",
   "name": "python",
   "nbconvert_exporter": "python",
   "pygments_lexer": "ipython3",
   "version": "3.12.7"
  }
 },
 "nbformat": 4,
 "nbformat_minor": 5
}
