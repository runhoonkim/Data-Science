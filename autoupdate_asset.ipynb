{
 "cells": [
  {
   "cell_type": "markdown",
   "id": "29f5c8b9-9d18-4059-8523-5df053b427c5",
   "metadata": {},
   "source": [
    "# 신한투자증권 자산 조회"
   ]
  },
  {
   "cell_type": "markdown",
   "id": "84aa8fa1-a71e-4428-9795-5b8a2479bbde",
   "metadata": {},
   "source": [
    "## 1) 인증 토큰 발급 (POST)"
   ]
  },
  {
   "cell_type": "code",
   "execution_count": null,
   "id": "20f02061-0aff-42fb-bac8-a7285a062cfd",
   "metadata": {},
   "outputs": [],
   "source": [
    "import requests\n",
    "\n",
    "url = \"https://openapi.shinhansec.com/oauth2/token\"\n",
    "data = {\n",
    "    \"grant_type\": \"client_credentials\",\n",
    "    \"client_id\": \"YOUR_CLIENT_ID\",\n",
    "    \"client_secret\": \"YOUR_CLIENT_SECRET\",\n",
    "    \"scope\": \"oob\"\n",
    "}\n",
    "\n",
    "response = requests.post(url, data=data)\n",
    "access_token = response.json()[\"access_token\"]\n"
   ]
  },
  {
   "cell_type": "markdown",
   "id": "41a9b882-23c6-4977-a700-066986b0a67f",
   "metadata": {},
   "source": [
    "## 2) 잔고 조회 API 호출 (GET)"
   ]
  },
  {
   "cell_type": "code",
   "execution_count": null,
   "id": "12bdd16c-2122-4d64-91c9-1ef9c9312041",
   "metadata": {},
   "outputs": [],
   "source": [
    "headers = {\n",
    "    \"Authorization\": f\"Bearer {access_token}\",\n",
    "    \"Content-Type\": \"application/json\"\n",
    "}\n",
    "\n",
    "params = {\n",
    "    \"account_number\": \"계좌번호\",\n",
    "    \"product_code\": \"\",  # 선택 사항\n",
    "    \"trade_code\": \"\",    # 선택 사항\n",
    "    # 추가 파라미터는 API 문서 참고\n",
    "}\n",
    "\n",
    "url = \"https://openapi.shinhansec.com/v1/acc/balance\"\n",
    "\n",
    "res = requests.get(url, headers=headers, params=params)\n",
    "print(res.json())\n"
   ]
  },
  {
   "cell_type": "code",
   "execution_count": null,
   "id": "b1d00141-7046-4a1c-bdfe-daf8df1f6f81",
   "metadata": {},
   "outputs": [],
   "source": []
  },
  {
   "cell_type": "code",
   "execution_count": null,
   "id": "e13e4b2f-ac3c-406c-9fd0-e536ccf1f66e",
   "metadata": {},
   "outputs": [],
   "source": []
  },
  {
   "cell_type": "code",
   "execution_count": null,
   "id": "6631d528-ca73-4385-b7a5-d44c848bbdda",
   "metadata": {},
   "outputs": [],
   "source": []
  },
  {
   "cell_type": "markdown",
   "id": "365736c8-f50b-465a-9c78-3d437f39c666",
   "metadata": {},
   "source": [
    "# 업비트 자산 조회"
   ]
  },
  {
   "cell_type": "code",
   "execution_count": null,
   "id": "7448c151-3e8c-49a9-8c9d-2d7ec15d1c82",
   "metadata": {},
   "outputs": [],
   "source": [
    "import jwt\n",
    "import uuid\n",
    "import requests\n",
    "import time\n",
    "from urllib.parse import urlencode\n",
    "\n",
    "access_key = 'YOUR_ACCESS_KEY'\n",
    "secret_key = 'YOUR_SECRET_KEY'\n",
    "server_url = 'https://api.upbit.com'\n",
    "\n",
    "payload = {\n",
    "    'access_key': access_key,\n",
    "    'nonce': str(uuid.uuid4()),\n",
    "}\n",
    "jwt_token = jwt.encode(payload, secret_key, algorithm='HS256')\n",
    "headers = {\"Authorization\": f\"Bearer {jwt_token}\"}\n",
    "\n",
    "res = requests.get(server_url + \"/v1/accounts\", headers=headers)\n",
    "balances = res.json()\n",
    "\n",
    "for balance in balances:\n",
    "    currency = balance['currency']\n",
    "    amount = balance['balance']\n",
    "    print(f\"{currency}: {amount}개\")\n"
   ]
  },
  {
   "cell_type": "markdown",
   "id": "c6545406-8302-4fcd-86b2-78e431071d35",
   "metadata": {},
   "source": [
    "# 구글 스프레드시트 연동"
   ]
  },
  {
   "cell_type": "code",
   "execution_count": null,
   "id": "136b75ef-4f99-4973-924e-37acc2ea2b78",
   "metadata": {},
   "outputs": [],
   "source": [
    "pip install gspread oauth2client\n",
    "\n",
    "import gspread\n",
    "from oauth2client.service_account import ServiceAccountCredentials\n",
    "import pandas as pd\n",
    "\n",
    "# 구글 인증\n",
    "scope = [\"https://spreadsheets.google.com/feeds\", \"https://www.googleapis.com/auth/drive\"]\n",
    "creds = ServiceAccountCredentials.from_json_keyfile_name(\"credentials.json\", scope)\n",
    "client = gspread.authorize(creds)\n",
    "\n",
    "# 구글 시트 열기 (이름 or URL)\n",
    "sheet = client.open(\"My Portfolio\").worksheet(\"Assets\")  # 시트 이름은 본인 시트에 맞게\n",
    "\n",
    "# 예시 데이터 (API로 받아온 데이터라고 가정)\n",
    "data = {\n",
    "    \"Date\": [\"2025-04-06\"],\n",
    "    \"Asset\": [\"BTC\"],\n",
    "    \"Quantity\": [0.5],\n",
    "    \"Price\": [70000000],\n",
    "    \"Value\": [0.5 * 70000000]\n",
    "}\n",
    "df = pd.DataFrame(data)\n",
    "\n",
    "# 기존 데이터 삭제 (선택사항)\n",
    "sheet.clear()\n",
    "\n",
    "# 헤더 + 데이터 작성\n",
    "sheet.update([df.columns.values.tolist()] + df.values.tolist())\n"
   ]
  }
 ],
 "metadata": {
  "kernelspec": {
   "display_name": "Python 3 (ipykernel)",
   "language": "python",
   "name": "python3"
  },
  "language_info": {
   "codemirror_mode": {
    "name": "ipython",
    "version": 3
   },
   "file_extension": ".py",
   "mimetype": "text/x-python",
   "name": "python",
   "nbconvert_exporter": "python",
   "pygments_lexer": "ipython3",
   "version": "3.12.7"
  }
 },
 "nbformat": 4,
 "nbformat_minor": 5
}
